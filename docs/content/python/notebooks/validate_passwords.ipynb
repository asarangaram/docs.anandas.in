{
 "cells": [
  {
   "cell_type": "code",
   "execution_count": 13,
   "metadata": {},
   "outputs": [],
   "source": []
  },
  {
   "cell_type": "code",
   "execution_count": 7,
   "metadata": {},
   "outputs": [],
   "source": [
    "import re\n",
    "reg =   r\"^(?=.*[A-Za-z])[A-Za-z\\d@$!#%*?&]{7,20}$\"\n",
    "def validate_pw(password):\n",
    "    pat =   re.compile(reg)\n",
    "    mat =   re.search(pat, password)\n",
    "    if mat:\n",
    "        return True\n",
    "    else:\n",
    "        return False"
   ]
  },
  {
   "cell_type": "code",
   "execution_count": 8,
   "metadata": {},
   "outputs": [
    {
     "name": "stderr",
     "output_type": "stream",
     "text": [
      ".FFFF...\n",
      "======================================================================\n",
      "FAIL: test_no_digit (__main__.MyTestClass.test_no_digit)\n",
      "----------------------------------------------------------------------\n",
      "Traceback (most recent call last):\n",
      "  File \"/var/folders/zj/k29d7xss0h37t_9xb9pph5sc0000gn/T/ipykernel_14144/1192711249.py\", line 20, in test_no_digit\n",
      "    self.assertFalse(validate_pw(\"Abcdef@\"))\n",
      "AssertionError: True is not false\n",
      "\n",
      "======================================================================\n",
      "FAIL: test_no_lowercase_character (__main__.MyTestClass.test_no_lowercase_character)\n",
      "----------------------------------------------------------------------\n",
      "Traceback (most recent call last):\n",
      "  File \"/var/folders/zj/k29d7xss0h37t_9xb9pph5sc0000gn/T/ipykernel_14144/1192711249.py\", line 14, in test_no_lowercase_character\n",
      "    self.assertFalse(validate_pw(\"ABC123@\"))\n",
      "AssertionError: True is not false\n",
      "\n",
      "======================================================================\n",
      "FAIL: test_no_special_character (__main__.MyTestClass.test_no_special_character)\n",
      "----------------------------------------------------------------------\n",
      "Traceback (most recent call last):\n",
      "  File \"/var/folders/zj/k29d7xss0h37t_9xb9pph5sc0000gn/T/ipykernel_14144/1192711249.py\", line 23, in test_no_special_character\n",
      "    self.assertFalse(validate_pw(\"Abc1234\"))\n",
      "AssertionError: True is not false\n",
      "\n",
      "======================================================================\n",
      "FAIL: test_no_uppercase_character (__main__.MyTestClass.test_no_uppercase_character)\n",
      "----------------------------------------------------------------------\n",
      "Traceback (most recent call last):\n",
      "  File \"/var/folders/zj/k29d7xss0h37t_9xb9pph5sc0000gn/T/ipykernel_14144/1192711249.py\", line 17, in test_no_uppercase_character\n",
      "    self.assertFalse(validate_pw(\"abc123@\"))\n",
      "AssertionError: True is not false\n",
      "\n",
      "----------------------------------------------------------------------\n",
      "Ran 8 tests in 0.006s\n",
      "\n",
      "FAILED (failures=4)\n"
     ]
    }
   ],
   "source": [
    "import unittest\n",
    "\n",
    "class MyTestClass(unittest.TestCase):\n",
    "    def test_valid_password(self):\n",
    "        self.assertTrue(validate_pw(\"Abc123@\"))\n",
    "\n",
    "    def test_too_short_password(self):\n",
    "        self.assertFalse(validate_pw(\"Abc12@\"))\n",
    "\n",
    "    def test_too_long_password(self):\n",
    "        self.assertFalse(validate_pw(\"Abc123@Abc123@Abc123@\"))\n",
    "\n",
    "    def test_no_lowercase_character(self):\n",
    "        self.assertFalse(validate_pw(\"ABC123@\"))\n",
    "\n",
    "    def test_no_uppercase_character(self):\n",
    "        self.assertFalse(validate_pw(\"abc123@\"))\n",
    "\n",
    "    def test_no_digit(self):\n",
    "        self.assertFalse(validate_pw(\"Abcdef@\"))\n",
    "\n",
    "    def test_no_special_character(self):\n",
    "        self.assertFalse(validate_pw(\"Abc1234\"))\n",
    "\n",
    "    def test_empty_string(self):\n",
    "        self.assertFalse(validate_pw(\"\"))\n",
    "\n",
    "# Discover and load all test methods starting with \"test_\"\n",
    "loader = unittest.TestLoader()\n",
    "test_suite = loader.loadTestsFromTestCase(MyTestClass)\n",
    "\n",
    "# Create a test runner and run the tests\n",
    "test_runner = unittest.TextTestRunner()\n",
    "result = test_runner.run(test_suite)\n"
   ]
  }
 ],
 "metadata": {
  "kernelspec": {
   "display_name": ".venv",
   "language": "python",
   "name": "python3"
  },
  "language_info": {
   "codemirror_mode": {
    "name": "ipython",
    "version": 3
   },
   "file_extension": ".py",
   "mimetype": "text/x-python",
   "name": "python",
   "nbconvert_exporter": "python",
   "pygments_lexer": "ipython3",
   "version": "3.11.5"
  },
  "orig_nbformat": 4
 },
 "nbformat": 4,
 "nbformat_minor": 2
}
